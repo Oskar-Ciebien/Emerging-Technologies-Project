{
 "cells": [
  {
   "cell_type": "markdown",
   "id": "59da8c11-95ad-43ff-a7e0-ea4f72e051ad",
   "metadata": {
    "tags": []
   },
   "source": [
    "# Quantum Computing\n",
    "https://en.wikipedia.org/wiki/Quantum_computing\n",
    "<hr>\n",
    "<br>"
   ]
  },
  {
   "cell_type": "markdown",
   "id": "c8f085cc-00d4-404c-a38d-68b98e7230c8",
   "metadata": {
    "tags": []
   },
   "source": [
    "## What is a Quantum Computer?\n",
    "\n",
    "https://www.newscientist.com/question/what-is-a-quantum-computer/\n",
    "<hr>"
   ]
  },
  {
   "cell_type": "markdown",
   "id": "7923060d-139b-40c2-9827-d669694515bb",
   "metadata": {},
   "source": [
    "Quantum Computers are machines which use the quantum physics properties. Thanks to these properties they can handle computations and store data."
   ]
  },
  {
   "cell_type": "markdown",
   "id": "257afab8-d939-490e-aae4-831763e2e5ec",
   "metadata": {},
   "source": [
    "<br>"
   ]
  },
  {
   "cell_type": "markdown",
   "id": "999394a2-c7ea-4aab-a070-496b202cd4d3",
   "metadata": {},
   "source": [
    "## How does a Quantum Computer work?\n",
    "\n",
    "https://www.sciencealert.com/quantum-computers\n",
    "<hr>"
   ]
  },
  {
   "cell_type": "markdown",
   "id": "c4b3bf69-e02e-47fb-beb6-21ef055dad62",
   "metadata": {},
   "source": [
    "Quantum Computers perform many difficult operations and tasks. Some of them include calculations which are more demanding than the calculations or operations a classical computer has to do. Quantum computers operate using the quantum state of an object and then produce a qubit."
   ]
  },
  {
   "cell_type": "markdown",
   "id": "f4c43aba-9c8c-4643-97d3-19cb6521ed5c",
   "metadata": {},
   "source": [
    "<br>"
   ]
  },
  {
   "cell_type": "markdown",
   "id": "b0a547e1-b5a2-409f-967e-8ef2739e29ba",
   "metadata": {},
   "source": [
    "## Types of Quantum Computers\n",
    "\n",
    "https://en.wikipedia.org/wiki/Quantum_computing<br>\n",
    "<hr>"
   ]
  },
  {
   "cell_type": "markdown",
   "id": "85fad0a2-a7b3-42db-b948-e56564067fa3",
   "metadata": {
    "tags": []
   },
   "source": [
    "There are many different types of Quantum Computers. Some of which include the Quantum Circuit Model, Quantum Turing Machine and Measurement-Based Quantum Computer.<br>"
   ]
  },
  {
   "cell_type": "markdown",
   "id": "279643dd-f5ea-403d-be24-b1618eeabc69",
   "metadata": {},
   "source": [
    "#### Quantum Circuit Model\n",
    "\n",
    "https://en.wikipedia.org/wiki/Quantum_circuit<br>\n",
    "<hr>\n",
    "\n",
    "- It's the most popular model.\n",
    "- Based on the quantum bit (\"qubit\").\n",
    "- Computation is a sequence of quantum gates, measurements and initialisations of \"qubits\"."
   ]
  },
  {
   "cell_type": "markdown",
   "id": "bcf30cbe-d786-4dd8-9bd8-a7b84639dfd3",
   "metadata": {},
   "source": [
    "#### Quantum Turing Machine\n",
    "\n",
    "https://en.wikipedia.org/wiki/Quantum_Turing_machine<br>\n",
    "<hr>\n",
    "\n",
    "- It's an abstract machine.\n",
    "- Used to model the effects of a quantum computer.\n",
    "- Can be related to classical and probabilistic Turing machines."
   ]
  },
  {
   "cell_type": "markdown",
   "id": "760b7a2a-c6fb-4743-8843-e914d6a71e9d",
   "metadata": {},
   "source": [
    "#### Measurement-Based Quantum Computer or One-Way Quantum Computer\n",
    "\n",
    "https://en.wikipedia.org/wiki/One-way_quantum_computer\n",
    "<hr>\n",
    "\n",
    "- First prepares an entangled resource state.\n",
    "- It is called \"one-way\" since the resource state is destroyed by the measurements.\n",
    "- The outcome of each of the measurements is random, but related such that the computation always succeeds."
   ]
  },
  {
   "cell_type": "markdown",
   "id": "890084fd-2391-4c7a-aac4-318645a2d3e6",
   "metadata": {},
   "source": [
    "<br>"
   ]
  },
  {
   "cell_type": "markdown",
   "id": "2730786d-3885-4408-a57e-70d9cb6c0ad4",
   "metadata": {},
   "source": [
    "## What is the difference between a Quantum Computer and a Classical Computer?\n",
    "\n",
    "https://whatis.techtarget.com/definition/classical-computing<br>\n",
    "https://www.cbinsights.com/research/quantum-computing-classical-computing-comparison-infographic/<br>\n",
    "https://rajprasathsubramanian89.medium.com/10-difference-between-classical-computing-and-quantum-computing-5e1777aa590d<br>\n",
    "<hr>\n"
   ]
  },
  {
   "cell_type": "markdown",
   "id": "57f2788b-d94a-4b69-b120-daefca8dccba",
   "metadata": {},
   "source": [
    "A Quantum Computer has already been described above. While a Classical Computer is a regular computer where information is stored in bits that are represented by ones and zeros."
   ]
  },
  {
   "cell_type": "markdown",
   "id": "00b13d89-cb99-4752-9215-f3f5cc84f8af",
   "metadata": {},
   "source": [
    "| Quantum Computer | Classical Computer |\n",
    "| ---: | :--- |\n",
    "| Calculates with Qubits (Can represent 0s and 1s at the same time) | Calculates with transistors (Can represent either 0s or 1s) |\n",
    "| Suitable for Optimization Problems, Simulations and Data Analysis | Suitable for everyday processing |\n",
    "| High error rates | Low error rates |\n",
    "| Required to be cooled at a high rate | Can operate at room temperature |\n",
    "| Power increases in proportion to the number of qubits | Power increase in a 1:1 scale with the number of transistors |\n",
    "| Restrictions on copying or measuring signals | No restrictions on copying or measuring signals |\n",
    "| Circuits are easily implemented, scalable and fast | Circuits are microscopic, which are fragile, slow and not scalable |"
   ]
  },
  {
   "cell_type": "markdown",
   "id": "1a3cfaf5-a473-4b7a-9bee-4608a14da958",
   "metadata": {},
   "source": [
    "<br> <br>\n",
    "\n",
    "## Functions\n",
    "***"
   ]
  },
  {
   "cell_type": "markdown",
   "id": "fcc57284-c075-457b-9574-6dcf337d55c9",
   "metadata": {},
   "source": [
    "Below is a description of two types of functions. Their possible values are ones and zeros."
   ]
  },
  {
   "cell_type": "code",
   "execution_count": 1,
   "id": "d535ae0d-d8c6-45d3-b286-133a8dfca6b8",
   "metadata": {},
   "outputs": [],
   "source": [
    "# Imports Random Selections.\n",
    "import random\n",
    "\n",
    "# Imports Permutations and combinations.\n",
    "import itertools"
   ]
  },
  {
   "cell_type": "markdown",
   "id": "b8c66db5-6491-4dda-9916-53494f1e7cf0",
   "metadata": {},
   "source": [
    "<br>\n",
    "\n",
    "### Constant Functions\n",
    "***"
   ]
  },
  {
   "cell_type": "markdown",
   "id": "76e4102f-58ee-4898-b67c-7154797bbe4f",
   "metadata": {},
   "source": [
    "A constant function does not change."
   ]
  },
  {
   "cell_type": "code",
   "execution_count": 2,
   "id": "9a45dab6-47a7-42af-9101-4a6e3c8d0c41",
   "metadata": {},
   "outputs": [],
   "source": [
    "# Examples of a Constant Function\n",
    "\n",
    "# Example 1\n",
    "def func_const_one(x):\n",
    "    return 1\n",
    "\n",
    "# Example 2\n",
    "def func_const_two(x):\n",
    "    return 0"
   ]
  },
  {
   "cell_type": "code",
   "execution_count": 3,
   "id": "5de58e0b-c0dc-4e91-b5d1-651dfb1a16e4",
   "metadata": {},
   "outputs": [
    {
     "data": {
      "text/plain": [
       "1"
      ]
     },
     "execution_count": 3,
     "metadata": {},
     "output_type": "execute_result"
    }
   ],
   "source": [
    "func_const_one(0)"
   ]
  },
  {
   "cell_type": "code",
   "execution_count": 4,
   "id": "e2f5c9e2-9084-4ad9-ac86-48afa58732ab",
   "metadata": {},
   "outputs": [
    {
     "data": {
      "text/plain": [
       "1"
      ]
     },
     "execution_count": 4,
     "metadata": {},
     "output_type": "execute_result"
    }
   ],
   "source": [
    "func_const_one(1)"
   ]
  },
  {
   "cell_type": "code",
   "execution_count": 5,
   "id": "b0d34a80-4b34-4428-9cf6-fc78051d7f0a",
   "metadata": {},
   "outputs": [
    {
     "data": {
      "text/plain": [
       "0"
      ]
     },
     "execution_count": 5,
     "metadata": {},
     "output_type": "execute_result"
    }
   ],
   "source": [
    "func_const_two(0)"
   ]
  },
  {
   "cell_type": "code",
   "execution_count": 6,
   "id": "68ba9ad9-70fc-4443-9185-7260a2addb33",
   "metadata": {},
   "outputs": [
    {
     "data": {
      "text/plain": [
       "0"
      ]
     },
     "execution_count": 6,
     "metadata": {},
     "output_type": "execute_result"
    }
   ],
   "source": [
    "func_const_two(1)"
   ]
  },
  {
   "cell_type": "markdown",
   "id": "7efe2e92-30e1-4ecc-a87d-d4cbe6b740be",
   "metadata": {},
   "source": [
    "In conclusion, no matter what value we put into the function. There is only one output."
   ]
  },
  {
   "cell_type": "markdown",
   "id": "05de8561-4b71-43db-8147-9be61cea43c0",
   "metadata": {},
   "source": [
    "<br>\n",
    "\n",
    "### Balanced Functions\n",
    "***"
   ]
  },
  {
   "cell_type": "code",
   "execution_count": 7,
   "id": "92b96f80-3fe1-49e9-8c9b-aab1f74de4e8",
   "metadata": {},
   "outputs": [],
   "source": [
    "# Examples of a Balanced Function\n",
    "\n",
    "# Example 1\n",
    "def func_bal_one(x):\n",
    "    return x\n",
    "\n",
    "# Example 2\n",
    "def func_bal_two(x):\n",
    "    return ((x + 1) % 2)"
   ]
  },
  {
   "cell_type": "code",
   "execution_count": 8,
   "id": "a48d60f2-ce23-44ca-a526-063f177814e3",
   "metadata": {},
   "outputs": [
    {
     "data": {
      "text/plain": [
       "0"
      ]
     },
     "execution_count": 8,
     "metadata": {},
     "output_type": "execute_result"
    }
   ],
   "source": [
    "func_bal_one(0)"
   ]
  },
  {
   "cell_type": "code",
   "execution_count": 9,
   "id": "9491ba55-f7e0-4fdc-b656-54c7e145ab89",
   "metadata": {},
   "outputs": [
    {
     "data": {
      "text/plain": [
       "1"
      ]
     },
     "execution_count": 9,
     "metadata": {},
     "output_type": "execute_result"
    }
   ],
   "source": [
    "func_bal_one(1)"
   ]
  },
  {
   "cell_type": "code",
   "execution_count": 10,
   "id": "69fb7e77-52e9-46cf-a723-8b78592ba17c",
   "metadata": {},
   "outputs": [
    {
     "data": {
      "text/plain": [
       "1"
      ]
     },
     "execution_count": 10,
     "metadata": {},
     "output_type": "execute_result"
    }
   ],
   "source": [
    "func_bal_two(0)"
   ]
  },
  {
   "cell_type": "code",
   "execution_count": 11,
   "id": "675adb13-4d0a-4f79-879a-74640974d14a",
   "metadata": {},
   "outputs": [
    {
     "data": {
      "text/plain": [
       "0"
      ]
     },
     "execution_count": 11,
     "metadata": {},
     "output_type": "execute_result"
    }
   ],
   "source": [
    "func_bal_two(1)"
   ]
  },
  {
   "cell_type": "markdown",
   "id": "21760f8e-64e8-4893-bad4-e3149b6e9c1d",
   "metadata": {},
   "source": [
    "In conclusion a balanced function value varies on the input."
   ]
  },
  {
   "cell_type": "markdown",
   "id": "3afb576f-cd6f-4e95-8c75-fcd4ba2b0638",
   "metadata": {},
   "source": [
    "<hr>\n",
    "<br>\n",
    "\n",
    "# END"
   ]
  },
  {
   "cell_type": "markdown",
   "id": "05524c9d-9b46-4925-833c-495fca32e8f0",
   "metadata": {},
   "source": [
    "<br>"
   ]
  }
 ],
 "metadata": {
  "kernelspec": {
   "display_name": "Python 3 (ipykernel)",
   "language": "python",
   "name": "python3"
  },
  "language_info": {
   "codemirror_mode": {
    "name": "ipython",
    "version": 3
   },
   "file_extension": ".py",
   "mimetype": "text/x-python",
   "name": "python",
   "nbconvert_exporter": "python",
   "pygments_lexer": "ipython3",
   "version": "3.9.7"
  }
 },
 "nbformat": 4,
 "nbformat_minor": 5
}
