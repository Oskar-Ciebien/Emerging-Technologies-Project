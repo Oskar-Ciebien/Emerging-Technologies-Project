{
 "cells": [
  {
   "cell_type": "markdown",
   "id": "59da8c11-95ad-43ff-a7e0-ea4f72e051ad",
   "metadata": {
    "tags": []
   },
   "source": [
    "# Quantum Computing\n",
    "https://en.wikipedia.org/wiki/Quantum_computing\n",
    "<hr>\n",
    "<br>"
   ]
  },
  {
   "cell_type": "markdown",
   "id": "c8f085cc-00d4-404c-a38d-68b98e7230c8",
   "metadata": {
    "tags": []
   },
   "source": [
    "## What is a Quantum Computer?\n",
    "\n",
    "https://www.newscientist.com/question/what-is-a-quantum-computer/"
   ]
  },
  {
   "cell_type": "markdown",
   "id": "7923060d-139b-40c2-9827-d669694515bb",
   "metadata": {},
   "source": [
    "Quantum Computers are machines which use the quantum physics properties. Thanks to these properties they can handle computations and store data."
   ]
  },
  {
   "cell_type": "markdown",
   "id": "257afab8-d939-490e-aae4-831763e2e5ec",
   "metadata": {},
   "source": [
    "<br>"
   ]
  },
  {
   "cell_type": "markdown",
   "id": "999394a2-c7ea-4aab-a070-496b202cd4d3",
   "metadata": {},
   "source": [
    "## How does a Quantum Computer work?\n",
    "\n",
    "https://www.sciencealert.com/quantum-computers"
   ]
  },
  {
   "cell_type": "markdown",
   "id": "c4b3bf69-e02e-47fb-beb6-21ef055dad62",
   "metadata": {},
   "source": [
    "Quantum Computers perform many difficult operations and tasks. Some of them include calculations which are more demanding than the calculations or operations a classical computer has to do. Quantum computers operate using the quantum state of an object and then produce a qubit."
   ]
  },
  {
   "cell_type": "markdown",
   "id": "f4c43aba-9c8c-4643-97d3-19cb6521ed5c",
   "metadata": {},
   "source": [
    "<br>"
   ]
  },
  {
   "cell_type": "markdown",
   "id": "b0a547e1-b5a2-409f-967e-8ef2739e29ba",
   "metadata": {},
   "source": [
    "## Types of Quantum Computers\n",
    "\n",
    "https://en.wikipedia.org/wiki/Quantum_computing<br>"
   ]
  },
  {
   "cell_type": "markdown",
   "id": "85fad0a2-a7b3-42db-b948-e56564067fa3",
   "metadata": {
    "tags": []
   },
   "source": [
    "There are many different types of Quantum Computers. Some of which include the Quantum Circuit Model, Quantum Turing Machine and Measurement-Based Quantum Computer.<br>"
   ]
  },
  {
   "cell_type": "markdown",
   "id": "279643dd-f5ea-403d-be24-b1618eeabc69",
   "metadata": {},
   "source": [
    "#### Quantum Circuit Model\n",
    "\n",
    "https://en.wikipedia.org/wiki/Quantum_circuit<br>\n",
    "\n",
    "- It's the most popular model.\n",
    "- Based on the quantum bit (\"qubit\").\n",
    "- Computation is a sequence of quantum gates, measurements and initialisations of \"qubits\"."
   ]
  },
  {
   "cell_type": "markdown",
   "id": "bcf30cbe-d786-4dd8-9bd8-a7b84639dfd3",
   "metadata": {},
   "source": [
    "#### Quantum Turing Machine\n",
    "\n",
    "https://en.wikipedia.org/wiki/Quantum_Turing_machine<br>\n",
    "\n",
    "- It's an abstract machine.\n",
    "- Used to model the effects of a quantum computer.\n",
    "- Can be related to classical and probabilistic Turing machines."
   ]
  },
  {
   "cell_type": "markdown",
   "id": "760b7a2a-c6fb-4743-8843-e914d6a71e9d",
   "metadata": {},
   "source": [
    "#### Measurement-Based Quantum Computer or One-Way Quantum Computer\n",
    "\n",
    "https://en.wikipedia.org/wiki/One-way_quantum_computer\n",
    "\n",
    "- First prepares an entangled resource state.\n",
    "- It is called \"one-way\" since the resource state is destroyed by the measurements.\n",
    "- The outcome of each of the measurements is random, but related such that the computation always succeeds."
   ]
  },
  {
   "cell_type": "markdown",
   "id": "890084fd-2391-4c7a-aac4-318645a2d3e6",
   "metadata": {},
   "source": [
    "<br>"
   ]
  },
  {
   "cell_type": "markdown",
   "id": "2730786d-3885-4408-a57e-70d9cb6c0ad4",
   "metadata": {},
   "source": [
    "## What is the difference between a Quantum Computer and a Classical Computer?"
   ]
  },
  {
   "cell_type": "markdown",
   "id": "57f2788b-d94a-4b69-b120-daefca8dccba",
   "metadata": {},
   "source": [
    "aa"
   ]
  },
  {
   "cell_type": "markdown",
   "id": "05524c9d-9b46-4925-833c-495fca32e8f0",
   "metadata": {},
   "source": [
    "<br>"
   ]
  },
  {
   "cell_type": "markdown",
   "id": "cc71d7e0-adff-4376-a942-2d84be651cb8",
   "metadata": {},
   "source": []
  }
 ],
 "metadata": {
  "kernelspec": {
   "display_name": "Python 3 (ipykernel)",
   "language": "python",
   "name": "python3"
  },
  "language_info": {
   "codemirror_mode": {
    "name": "ipython",
    "version": 3
   },
   "file_extension": ".py",
   "mimetype": "text/x-python",
   "name": "python",
   "nbconvert_exporter": "python",
   "pygments_lexer": "ipython3",
   "version": "3.9.7"
  }
 },
 "nbformat": 4,
 "nbformat_minor": 5
}
