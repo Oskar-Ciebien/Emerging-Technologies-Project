{
 "cells": [
  {
   "cell_type": "markdown",
   "id": "59da8c11-95ad-43ff-a7e0-ea4f72e051ad",
   "metadata": {
    "tags": []
   },
   "source": [
    "# Quantum Computing\n",
    "https://en.wikipedia.org/wiki/Quantum_computing\n",
    "<hr>\n",
    "<br>"
   ]
  },
  {
   "cell_type": "markdown",
   "id": "c8f085cc-00d4-404c-a38d-68b98e7230c8",
   "metadata": {
    "tags": []
   },
   "source": [
    "## What is a Quantum Computer?"
   ]
  },
  {
   "cell_type": "markdown",
   "id": "7923060d-139b-40c2-9827-d669694515bb",
   "metadata": {},
   "source": []
  },
  {
   "cell_type": "markdown",
   "id": "999394a2-c7ea-4aab-a070-496b202cd4d3",
   "metadata": {},
   "source": [
    "<br>\n",
    "\n",
    "## How does a Quantum Computer work?"
   ]
  },
  {
   "cell_type": "markdown",
   "id": "c4b3bf69-e02e-47fb-beb6-21ef055dad62",
   "metadata": {},
   "source": []
  },
  {
   "cell_type": "markdown",
   "id": "2730786d-3885-4408-a57e-70d9cb6c0ad4",
   "metadata": {},
   "source": [
    "<br>\n",
    "\n",
    "## What is the difference between a Quantum Computer and a Classical Computer?"
   ]
  },
  {
   "cell_type": "markdown",
   "id": "57f2788b-d94a-4b69-b120-daefca8dccba",
   "metadata": {},
   "source": []
  }
 ],
 "metadata": {
  "kernelspec": {
   "display_name": "Python 3 (ipykernel)",
   "language": "python",
   "name": "python3"
  },
  "language_info": {
   "codemirror_mode": {
    "name": "ipython",
    "version": 3
   },
   "file_extension": ".py",
   "mimetype": "text/x-python",
   "name": "python",
   "nbconvert_exporter": "python",
   "pygments_lexer": "ipython3",
   "version": "3.9.7"
  }
 },
 "nbformat": 4,
 "nbformat_minor": 5
}
